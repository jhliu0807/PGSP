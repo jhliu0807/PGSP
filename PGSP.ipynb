{
 "cells": [
  {
   "cell_type": "code",
   "execution_count": 1,
   "id": "995170b7",
   "metadata": {},
   "outputs": [
    {
     "name": "stdout",
     "output_type": "stream",
     "text": [
      "CPU times: user 4.22 s, sys: 3.99 s, total: 8.21 s\n",
      "Wall time: 4.51 s\n"
     ]
    }
   ],
   "source": [
    "%%time\n",
    "import os\n",
    "import matplotlib.pyplot as plt\n",
    "import torch\n",
    "import numpy as np\n",
    "from tqdm import tqdm\n",
    "from scipy.sparse import coo_matrix, diags, hstack, vstack, identity\n",
    "from scipy.sparse.linalg import eigsh\n",
    "\n",
    "\n",
    "dataset = 'gowalla'\n",
    "P0_, P1_ = True, True\n",
    "PHI = 0.7\n",
    "D_TYPE, TOP_K, DIM = np.float32, 20, 512\n",
    "train_file = './input/' + dataset + '/train.txt'\n",
    "test_file = './input/' + dataset + '/test.txt'"
   ]
  },
  {
   "cell_type": "code",
   "execution_count": 2,
   "id": "e5add81b",
   "metadata": {},
   "outputs": [
    {
     "name": "stdout",
     "output_type": "stream",
     "text": [
      "CPU times: user 589 ms, sys: 58.2 ms, total: 647 ms\n",
      "Wall time: 710 ms\n"
     ]
    }
   ],
   "source": [
    "%%time\n",
    "user_nums = 0\n",
    "item_nums = 0\n",
    "R_I = [[], []]\n",
    "with open(train_file) as f:\n",
    "    for _ in f.readlines():\n",
    "        user_nums += 1\n",
    "        _ = _.strip().split(' ')\n",
    "        items = [int(i) for i in _[1:]]\n",
    "        uid = int(_[0])\n",
    "        R_I[0] += [uid] * len(items)\n",
    "        R_I[1] += items\n",
    "        max_item = max(items)\n",
    "        item_nums = max(item_nums, max_item)\n",
    "    item_nums += 1\n",
    "R_I = np.array(R_I)\n",
    "R_V = np.array([1] * len(R_I[0]), dtype=D_TYPE)\n",
    "R = coo_matrix((R_V, R_I), shape=(user_nums, item_nums))\n",
    "\n",
    "ground_truth = dict()\n",
    "with open(test_file) as f:\n",
    "    for _ in f.readlines():\n",
    "        _ = _.strip().split(' ')\n",
    "        items = [int(i) for i in _[1:]]\n",
    "        uid = int(_[0])\n",
    "        if len(items) > 0:\n",
    "            ground_truth[uid] = items\n",
    "test_user_nums = len(ground_truth)"
   ]
  },
  {
   "cell_type": "code",
   "execution_count": 3,
   "id": "6a1db519",
   "metadata": {},
   "outputs": [
    {
     "name": "stdout",
     "output_type": "stream",
     "text": [
      "CPU times: user 4.75 s, sys: 776 ms, total: 5.53 s\n",
      "Wall time: 5.54 s\n"
     ]
    }
   ],
   "source": [
    "%%time\n",
    "Du_ = diags(np.power(R.sum(axis=1).T.A[0], -1/2), offsets=0)\n",
    "Di_ = diags(np.power(R.sum(axis=0).A[0], -1/2), offsets=0)\n",
    "Du = diags(np.power(R.sum(axis=1).T.A[0], 1/2), offsets=0)\n",
    "Di = diags(np.power(R.sum(axis=0).A[0], 1/2), offsets=0)\n",
    "\n",
    "Ru = Du_ * R\n",
    "Ri = R * Di_\n",
    "\n",
    "Cu = Ri * Ri.T\n",
    "Ci = Ru.T * Ru\n",
    "\n",
    "R_post = Ru * Di_\n",
    "Ci0 = R_post.T * R_post\n",
    "Cu0 = R_post * R_post.T "
   ]
  },
  {
   "cell_type": "code",
   "execution_count": 4,
   "id": "64716dde",
   "metadata": {},
   "outputs": [
    {
     "name": "stdout",
     "output_type": "stream",
     "text": [
      "CPU times: user 13.2 s, sys: 5.48 s, total: 18.6 s\n",
      "Wall time: 18.7 s\n"
     ]
    }
   ],
   "source": [
    "%%time\n",
    "A = vstack([hstack([Cu, R]), hstack([R.T, Ci])])\n",
    "I = identity(user_nums + item_nums, dtype=D_TYPE)\n",
    "D_ = diags(np.power(A.sum(axis=0).A[0], -1/2), offsets=0)\n",
    "A_norm = D_ * A * D_\n",
    "L_norm = I - A_norm"
   ]
  },
  {
   "cell_type": "code",
   "execution_count": 5,
   "id": "8ac45239",
   "metadata": {},
   "outputs": [
    {
     "data": {
      "image/png": "[encoded data removed]",
      "text/plain": [
       "<Figure size 432x288 with 1 Axes>"
      ]
     },
     "metadata": {
      "needs_background": "light"
     },
     "output_type": "display_data"
    },
    {
     "name": "stdout",
     "output_type": "stream",
     "text": [
      "CPU times: user 2h 25min 13s, sys: 2min 10s, total: 2h 27min 24s\n",
      "Wall time: 12min 38s\n"
     ]
    }
   ],
   "source": [
    "%%time\n",
    "vec_file = './temp/eig/vec_' + dataset + '_{}'.format(DIM) + '.npy'\n",
    "val_file = './temp/eig/val_' + dataset + '_{}'.format(DIM) + '.npy'\n",
    "\n",
    "if not os.path.exists(vec_file):\n",
    "    val, vec = eigsh(L_norm, k=DIM, which='SA')\n",
    "    np.save(vec_file, vec)\n",
    "    np.save(val_file, val)\n",
    "else:\n",
    "    vec = np.load(vec_file)\n",
    "    val = np.load(val_file)\n",
    "\n",
    "plt.plot(val)\n",
    "plt.show()"
   ]
  },
  {
   "cell_type": "code",
   "execution_count": 6,
   "id": "6848f09f",
   "metadata": {},
   "outputs": [
    {
     "name": "stdout",
     "output_type": "stream",
     "text": [
      "CPU times: user 1.29 s, sys: 896 ms, total: 2.18 s\n",
      "Wall time: 2.18 s\n"
     ]
    }
   ],
   "source": [
    "%%time\n",
    "R_b = hstack([Cu0, R])\n",
    "D_Rb_i_ = diags(np.power(R_b.sum(axis=0).A[0], -1/2), offsets=0)\n",
    "D_Rb_i = diags(np.power(R_b.sum(axis=0).A[0], 1/2), offsets=0)\n",
    "D_Rb_i = D_Rb_i.toarray()"
   ]
  },
  {
   "cell_type": "code",
   "execution_count": 7,
   "id": "0ef1fc0b",
   "metadata": {},
   "outputs": [
    {
     "name": "stdout",
     "output_type": "stream",
     "text": [
      "CPU times: user 24.5 s, sys: 9.42 s, total: 33.9 s\n",
      "Wall time: 34 s\n"
     ]
    }
   ],
   "source": [
    "%%time\n",
    "if P0_:\n",
    "    P0_file = './temp/P0/' + dataset + '.npy'\n",
    "    if not os.path.exists(P0_file):\n",
    "        P0 = R * Di_\n",
    "        P0 = P0 * Ci0\n",
    "        P0 = P0 * Di\n",
    "        P0 = P0.toarray()\n",
    "        np.save(P0_file, P0)\n",
    "    else:\n",
    "        P0 = np.load(P0_file)\n",
    "else:\n",
    "    P0_file = './temp/P0/' + dataset + '_raw' + '.npy'\n",
    "    if not os.path.exists(P0_file):\n",
    "        P0 = R * Ci0\n",
    "        P0 = P0.toarray()\n",
    "        np.save(P0_file, P0)\n",
    "    else:\n",
    "        P0 = np.load(P0_file)"
   ]
  },
  {
   "cell_type": "code",
   "execution_count": 8,
   "id": "d6eb5aba",
   "metadata": {},
   "outputs": [
    {
     "name": "stdout",
     "output_type": "stream",
     "text": [
      "CPU times: user 7min 55s, sys: 4min 2s, total: 11min 57s\n",
      "Wall time: 1min 12s\n"
     ]
    }
   ],
   "source": [
    "%%time\n",
    "if P1_:\n",
    "    P1_file = './temp/P1/' + dataset + '_{}'.format(DIM) + '.npy'\n",
    "    if not os.path.exists(P1_file):\n",
    "        P1 = R_b * D_Rb_i_\n",
    "        P1 = P1 * vec\n",
    "        P11 = np.matmul(vec.T, D_Rb_i)\n",
    "        P1 = np.matmul(P1, P11)\n",
    "        P1 = P1[:, user_nums:]\n",
    "        np.save(P1_file, P1)\n",
    "    else:\n",
    "        P1 = np.load(P1_file)\n",
    "else:\n",
    "    P1_file = './temp/P1/' + dataset + '_{}_raw'.format(DIM) + '.npy'\n",
    "    if not os.path.exists(P1_file):\n",
    "        P1 = R_b * vec\n",
    "        P1 = np.matmul(P1, vec.T)\n",
    "        P1 = P1[:, user_nums:]\n",
    "        np.save(P1_file, P1)\n",
    "    else:\n",
    "        P1 = np.load(P1_file)"
   ]
  },
  {
   "cell_type": "code",
   "execution_count": 9,
   "id": "72d8a6b8",
   "metadata": {},
   "outputs": [
    {
     "name": "stdout",
     "output_type": "stream",
     "text": [
      "0.1916 0.1605\n",
      "CPU times: user 21.8 s, sys: 7.86 s, total: 29.6 s\n",
      "Wall time: 20.5 s\n"
     ]
    }
   ],
   "source": [
    "%%time\n",
    "P = PHI * P0 + (1 - PHI) * P1\n",
    "\n",
    "P = torch.from_numpy(P)\n",
    "for i, j in zip(R_I[0], R_I[1]):\n",
    "    i, j = i.item(), j.item()\n",
    "    P[i][j] = 1e-9  \n",
    "_, pred_indexs = P.topk(TOP_K)\n",
    "\n",
    "recall = 0.\n",
    "precise = 0.\n",
    "NDCG = 0.\n",
    "for test_uid in range(user_nums):\n",
    "    if ground_truth.get(test_uid):\n",
    "        pred = pred_indexs[test_uid].tolist()\n",
    "        # NDCG\n",
    "        DCG = 0.\n",
    "        IDCG = 0.\n",
    "        for i in range(TOP_K):\n",
    "            if pred[i] in ground_truth[test_uid]:\n",
    "                DCG += (1 / np.log(2 + i))\n",
    "        for i in range(min(TOP_K, len(ground_truth[test_uid]))):\n",
    "            IDCG += (1 / np.log(2 + i))\n",
    "        NDCG += (DCG / IDCG)\n",
    "        # Recall Precise\n",
    "        right = set(pred) & set(ground_truth[test_uid])\n",
    "        up = len(right)\n",
    "        down = len(ground_truth[test_uid])\n",
    "        recall += (up / down)\n",
    "        precise += (up / TOP_K)\n",
    "\n",
    "recall /= test_user_nums\n",
    "precise /= test_user_nums\n",
    "f1 = 2 * recall * precise / (recall + precise)\n",
    "NDCG /= test_user_nums\n",
    "print(np.round(recall, 4), np.round(NDCG, 4))"
   ]
  },
  {
   "cell_type": "code",
   "execution_count": null,
   "id": "82a393c6",
   "metadata": {},
   "outputs": [],
   "source": []
  }
 ],
 "metadata": {
  "kernelspec": {
   "display_name": "Python 3 (ipykernel)",
   "language": "python",
   "name": "python3"
  },
  "language_info": {
   "codemirror_mode": {
    "name": "ipython",
    "version": 3
   },
   "file_extension": ".py",
   "mimetype": "text/x-python",
   "name": "python",
   "nbconvert_exporter": "python",
   "pygments_lexer": "ipython3",
   "version": "3.9.7"
  }
 },
 "nbformat": 4,
 "nbformat_minor": 5
}
